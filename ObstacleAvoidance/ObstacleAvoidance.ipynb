{
 "cells": [
  {
   "cell_type": "markdown",
   "id": "cellular-fairy",
   "metadata": {},
   "source": [
    "# Volume 4: Optimal Control as Boundary Value Problems"
   ]
  },
  {
   "cell_type": "code",
   "execution_count": 24,
   "id": "bulgarian-catalyst",
   "metadata": {},
   "outputs": [],
   "source": [
    "import numpy as np\n",
    "from scipy.integrate import solve_bvp\n",
    "import matplotlib.pyplot as plt\n",
    "from functools import partial"
   ]
  },
  {
   "cell_type": "markdown",
   "id": "hollow-prescription",
   "metadata": {},
   "source": [
    "## Problem 1\n",
    "Given the following cost functional and boundary conditions, solve for and plot the optimal path and acceleration.\n",
    "\\begin{align*}\n",
    "    J(u) &= \\int_0^{30} x^2 + \\frac{2\\pi}{5}u^2dt \\\\\n",
    "    s(t) &= \\begin{bmatrix}x(t)\\\\x'(t) \\end{bmatrix}, s(0) = \\begin{bmatrix}0\\\\1 \\end{bmatrix}, \\quad s(30) = \\begin{bmatrix}16\\\\10 \\end{bmatrix}\n",
    "\\end{align*}\n",
    "Plot your solutions for the optimal $x(t)$ and $u(t)$."
   ]
  },
  {
   "cell_type": "code",
   "execution_count": 25,
   "id": "soviet-bosnia",
   "metadata": {},
   "outputs": [
    {
     "data": {
      "image/png": "[encoded data removed]",
      "text/plain": [
       "<Figure size 432x288 with 2 Axes>"
      ]
     },
     "metadata": {
      "needs_background": "light"
     },
     "output_type": "display_data"
    }
   ],
   "source": [
    "def prob1():\n",
    "    '''\n",
    "    Find the optimal path for the fixed time horizon problem\n",
    "    '''\n",
    "    \n",
    "    def bc(ya, yb):\n",
    "        \"\"\"Output 4 things\"\"\"\n",
    "        return np.array([ya[0], ya[1]-1, yb[0]-16, yb[1]-10])\n",
    "    \n",
    "    def ode(t,y):\n",
    "        \"\"\"4 part ode:\n",
    "        y[0] - x'\n",
    "        y[1] - u\n",
    "        y[2] - p'\n",
    "        y[3] - x\n",
    "        \"\"\"\n",
    "        \n",
    "        return np.array([y[1], 5/(4*np.pi)*y[3] , -2*y[0], y[2]])\n",
    "    \n",
    "    # Set up elements\n",
    "    t_steps = 100\n",
    "    t = np.linspace(0,30,t_steps)\n",
    "    \n",
    "    # Guess and solve\n",
    "    y0 = np.ones((4,t_steps))\n",
    "    sol = solve_bvp(ode, bc, t, y0)\n",
    "    \n",
    "    # Plot solution\n",
    "    plt.subplot(211)\n",
    "    plt.plot(sol.x, sol.y[0])\n",
    "    plt.xlabel('t')\n",
    "    plt.ylabel('x(t)')\n",
    "    plt.title(\"BVP\")\n",
    "    \n",
    "    # Plot solution\n",
    "    plt.subplot(212)\n",
    "    plt.plot(sol.x, sol.y[3])\n",
    "    plt.xlabel('t')\n",
    "    plt.ylabel('u(t)')\n",
    "    plt.title(\"BVP\")\n",
    "    plt.show()\n",
    "\n",
    "prob1()\n",
    "    \n",
    "    "
   ]
  },
  {
   "cell_type": "markdown",
   "id": "economic-scott",
   "metadata": {},
   "source": [
    "## Problem 2 \n",
    "Using the ODEs found in 14.7 and 14.11, the obstacle function 14.8, and the following boundary conditions and parameters solve for and plot the optimal path.\n",
    "\\begin{align*}\n",
    "    t_0 = 0 &, \\quad t_f = 20\\\\\n",
    "    (c_x,c_y) &= (4,1)\\\\\n",
    "    (r_x,r_y) &= (5,.5)\\\\\n",
    "    \\lambda &= 20\\\\\n",
    "    s_0 = \\begin{bmatrix}6\\\\1.5\\\\0\\\\0 \\end{bmatrix}&, \\quad s_f = \\begin{bmatrix}0\\\\0\\\\0\\\\0 \\end{bmatrix}\n",
    "\\end{align*}\n",
    "You will need to choose a $W_1$ and $W_2$ which allow the solver to find a valid path.\n",
    "If these parameters are not chosen correctly, the solver may find a path which goes through the obstacle, not around it.\n",
    "Plot the obstacle using plt.contour() to be certain path doesn't pass through the obstacle."
   ]
  },
  {
   "cell_type": "code",
   "execution_count": 26,
   "id": "defined-monte",
   "metadata": {},
   "outputs": [],
   "source": [
    "def obstacle(x,y,W1=1,r=(1,1),c=(0,0)):\n",
    "    '''\n",
    "    Define an area that will represent an obstacle\n",
    "    \n",
    "    Parameters:\n",
    "        x (float): x position in space\n",
    "        y (float): y position in space\n",
    "        W1 (float): weight of cost\n",
    "        r (tuple): radius in x and y direction\n",
    "        c (tuple): center of the ellipse\n",
    "    '''\n",
    "\n",
    "    ellipse = ((x - c[0])**2/r[0] + (y - c[1])**2/r[1])**20 + 1\n",
    "\n",
    "    return W1 / ellipse\n",
    "\n",
    "def obstacle_dx(x,y,W1=1,r=(1,1,),c=(0,0)):\n",
    "    '''\n",
    "    x derivative of the obstacle\n",
    "\n",
    "    Parameters:\n",
    "        x (float): x position in space\n",
    "        y (float): y position in space\n",
    "        W (float): weight of cost\n",
    "        r (tuple): radius in x and y direction\n",
    "        c (tuple): center of the ellipse\n",
    "    '''\n",
    "\n",
    "    circle = (x - c[0])**2/r[0] + (y - c[1])**2/r[1]\n",
    "    numer = -40* W1 * (x-c[0])*(circle)**19\n",
    "    denom = r[0]*((circle)**20 + 1)**2\n",
    "\n",
    "    return numer / denom\n",
    "\n",
    "def obstacle_dy(x,y,W1=1,r=(1,1,),c=(0,0)):\n",
    "    '''\n",
    "    y derivative of the obstacle\n",
    "\n",
    "    Parameters:\n",
    "        x (float): x position in space\n",
    "        y (float): y position in space\n",
    "        W1 (float): weight of cost\n",
    "        r (tuple): radius in x and y direction\n",
    "        c (tuple): center of the ellipse\n",
    "    '''\n",
    "\n",
    "    circle = (x - c[0])**2/r[0] + (y - c[1])**2/r[1]\n",
    "    numer = -40 * W1 * (y-c[1])*(circle)**19\n",
    "    denom = r[1]*((circle)**20 + 1)**2\n",
    "\n",
    "    return numer / denom"
   ]
  },
  {
   "cell_type": "code",
   "execution_count": 39,
   "id": "stone-raleigh",
   "metadata": {},
   "outputs": [
    {
     "data": {
      "image/png": "[encoded data removed]",
      "text/plain": [
       "<Figure size 432x288 with 1 Axes>"
      ]
     },
     "metadata": {
      "needs_background": "light"
     },
     "output_type": "display_data"
    }
   ],
   "source": [
    "def prob2():\n",
    "    '''\n",
    "    Find the optimal path for the fixed time horizon problem\n",
    "    '''\n",
    "    \n",
    "    W1, W2 = 20, 2\n",
    "    c = (4,1)\n",
    "    r = (5,.5)\n",
    "    lam = 20\n",
    "    \n",
    "    def bc(ya, yb):\n",
    "        \"\"\"Output 4 things\"\"\"\n",
    "        return np.array([ya[0]-6, ya[1]-1.5, ya[2], ya[3],\n",
    "                         yb[0], yb[1], yb[2], yb[3]])\n",
    "    \n",
    "    def ode(t,y):\n",
    "        \"\"\"4 part ode:\n",
    "        y[0] - x -> x'\n",
    "        y[1] - y -> y'\n",
    "        y[2] - x'-> u1\n",
    "        y[3] - y'-> u2\n",
    "        y[4] - p1'->Cx\n",
    "        y[5] - p2'->Cy\n",
    "        y[6] - p3'->-p1\n",
    "        y[7] - p4'->-p2\n",
    "        \"\"\"\n",
    "        \n",
    "        return np.array([y[2], y[3] , y[6]/(2*W2), y[7]/(2*W2), obstacle_dx(y[0],y[1],W1,r,c), \n",
    "                         obstacle_dy(y[0],y[1],W1,r,c), -y[4], -y[5]])\n",
    "    \n",
    "    # Set up elements\n",
    "    t_steps = 100\n",
    "    t = np.linspace(0,20,t_steps)\n",
    "    \n",
    "    # Guess and solve\n",
    "    y0 = np.ones((8,t_steps))\n",
    "    sol = solve_bvp(ode, bc, t, y0, max_nodes=30000)\n",
    "    \n",
    "    \n",
    "    \n",
    "    # Plot solution\n",
    "    plt.plot(sol.y[0], sol.y[1], label=\"Optimal Path\")\n",
    "    plt.plot(sol.y[0], obstacle(sol.y[0], sol.y[1], W1, r, c), label=\"Obstacle\")\n",
    "    plt.xlabel('x(t)')\n",
    "    plt.ylabel('y(t)')\n",
    "    plt.title(\"BVP\")\n",
    "    plt.legend()\n",
    "    \n",
    "    plt.show()\n",
    "    \n",
    "prob2()"
   ]
  },
  {
   "cell_type": "markdown",
   "id": "twelve-occurrence",
   "metadata": {},
   "source": [
    "## Problem 3\n",
    "Solve the following boundary value problem:\n",
    "\\begin{align*}\n",
    "    y'' + 3y &= \\sin(t)\\\\\n",
    "    y(0) = 0,\\quad y(t_f) = &\\frac{\\pi}{2}, \\quad y'(t_f) = \\frac{1}{2}\\left(\\sqrt{3}\\pi \\cot(\\pi\\sqrt{75}) - 1 \\right).\n",
    "\\end{align*}\n",
    "Plot your solution. What $t_f$ did the solver find?"
   ]
  },
  {
   "cell_type": "code",
   "execution_count": 9,
   "id": "representative-commission",
   "metadata": {},
   "outputs": [],
   "source": [
    "def prob3():\n",
    "    '''\n",
    "    Solve the free time horizon BVP.\n",
    "    Plot the solution and return the correct end time\n",
    "    '''\n",
    "    raise NotImplementedError(\"Problem 3 Incomplete\")    "
   ]
  },
  {
   "cell_type": "markdown",
   "id": "facial-persian",
   "metadata": {},
   "source": [
    "## Problem 4\n",
    "Refactor your code from problem 2 to create a free end time BVP and use a new boundary value derived from 14.14.\n",
    "Plot the solution you found.\n",
    "What is the optimal time?"
   ]
  },
  {
   "cell_type": "code",
   "execution_count": null,
   "id": "patent-yellow",
   "metadata": {},
   "outputs": [],
   "source": [
    "def prob4():\n",
    "    '''\n",
    "    Find the optimal path and time for the free time horizon problem.\n",
    "    Plot the solution and return the optimal time.\n",
    "    '''\n",
    "    raise NotImplementedError(\"Problem 4 Incomplete\") "
   ]
  }
 ],
 "metadata": {
  "kernelspec": {
   "display_name": "Python 3",
   "language": "python",
   "name": "python3"
  },
  "language_info": {
   "codemirror_mode": {
    "name": "ipython",
    "version": 3
   },
   "file_extension": ".py",
   "mimetype": "text/x-python",
   "name": "python",
   "nbconvert_exporter": "python",
   "pygments_lexer": "ipython3",
   "version": "3.8.8"
  }
 },
 "nbformat": 4,
 "nbformat_minor": 5
}
