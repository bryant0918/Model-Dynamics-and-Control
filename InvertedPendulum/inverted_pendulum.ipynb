{
 "cells": [
  {
   "cell_type": "markdown",
   "metadata": {},
   "source": [
    "<h1 align=\"center\">Volume 4: Inverse Problems.</h1>\n",
    "\n",
    "    Bryant McArthur\n",
    "    Math 439\n",
    "    March 9, 2023"
   ]
  },
  {
   "cell_type": "code",
   "execution_count": 3,
   "metadata": {},
   "outputs": [],
   "source": [
    "import numpy as np\n",
    "from scipy.optimize import root"
   ]
  },
  {
   "cell_type": "markdown",
   "metadata": {},
   "source": [
    "# Problem 1\n",
    "\n",
    "Write a function that returns the matrices A, B, Q, and R given above. Let\n",
    "g = 9.8 m/s\n",
    "2\n",
    "."
   ]
  },
  {
   "cell_type": "code",
   "execution_count": 2,
   "metadata": {},
   "outputs": [],
   "source": [
    "def linearized_init(M, m, l, q1, q2, q3, q4, r):\n",
    "    '''\n",
    "    Parameters:\n",
    "    ----------\n",
    "    M, m: floats\n",
    "          masses of the rickshaw and the present\n",
    "    l   : float\n",
    "          length of the rod\n",
    "    q1, q2, q3, q4, r : floats\n",
    "        relative weights of the position and velocity of the rickshaw, the\n",
    "        angular displacement theta and the change in theta, and the control\n",
    "\n",
    "\n",
    "    Return\n",
    "    -------\n",
    "    Q : ndarray of shape (4,4)\n",
    "    R : ndarray of shape (1,1)\n",
    "    '''\n",
    "    g = 9.8\n",
    "    \n",
    "    A = np.array([[0,1,0,0],\n",
    "                 [0,0,m*g/M,0],\n",
    "                 [0,0,0,1],\n",
    "                 [0,0,g/(M*l)*(M+m),0]])\n",
    "    \n",
    "    B = np.array([[0],[1/M],[0],[1/(M*l)]])\n",
    "    Q = np.diag([q1,q2,q3,q4])\n",
    "    R = np.array([[r]])\n",
    "    \n",
    "    \n",
    "    return A,B,Q,R"
   ]
  },
  {
   "cell_type": "markdown",
   "metadata": {},
   "source": [
    "# Problem 2\n",
    "\n",
    "Write the following function to find the matrix $P$ using `scipy.optimize.root`.\n",
    "Since root takes in a vector and not a matrix, you will have to reshape the matrix P before\n",
    "passing it in and after getting your result, using `np.reshape(16)` and `np.reshape((4,4))`."
   ]
  },
  {
   "cell_type": "code",
   "execution_count": null,
   "metadata": {},
   "outputs": [],
   "source": [
    "def find_P(A,B,Q,R):\n",
    "    '''\n",
    "    Parameters:\n",
    "    ----------\n",
    "    A, Q : ndarrays of shape (4,4)\n",
    "    B : ndarray of shape (4,1)\n",
    "    R : ndarray of shape (1,1)\n",
    "    \n",
    "    Returns\n",
    "    -------\n",
    "    P : the matrix solution of the Riccati equation\n",
    "    '''\n",
    "    f = lambda P: \n",
    "    P = root()\n",
    "    \n",
    "    return P"
   ]
  },
  {
   "cell_type": "code",
   "execution_count": null,
   "metadata": {},
   "outputs": [],
   "source": [
    "M, m = 23., 5.\n",
    "l = 4.\n",
    "q1, q2, q3, q4 = 1., 1., 1., 1.\n",
    "r = 10."
   ]
  },
  {
   "cell_type": "markdown",
   "metadata": {},
   "source": [
    "# Problem 3\n",
    " \n",
    "Write the following function that implements the LQR solution described earlier.\n",
    "Use `scipy.integrate.solve_ivp` to solve the IVP."
   ]
  },
  {
   "cell_type": "code",
   "execution_count": null,
   "metadata": {},
   "outputs": [],
   "source": [
    "def rickshaw(tv, X0, A, B, Q, R, P):\n",
    "    '''\n",
    "    Parameters:\n",
    "    ----------\n",
    "    tv : ndarray of time values, with shape (n+1,)\n",
    "    X0 : Initial conditions on state variables\n",
    "    A, Q: ndarrays of shape (4,4)\n",
    "    B : ndarray of shape (4,1)\n",
    "    R : ndarray of shape (1,1)\n",
    "    P : ndarray of shape (4,4)\n",
    "    Returns\n",
    "    -------\n",
    "    Z : ndarray of shape (n+1,4), the state vector at each time\n",
    "    U : ndarray of shape (n+1,), the control values\n",
    "    '''\n",
    "    pass"
   ]
  },
  {
   "cell_type": "markdown",
   "metadata": {},
   "source": [
    "# Problem 4\n",
    "\n",
    "Test the function made in Problem (3). Find the matrix $P$ using the `scipy.optimize.root` method and plot with `tf=6` as well as the `solve_continuous_are`\n",
    "method and plot with `tf=60`. Plot the solutions $\\tilde{z}$ and $\\tilde{u}$. Compare your results to Figure\n",
    "21.3."
   ]
  },
  {
   "cell_type": "code",
   "execution_count": null,
   "metadata": {},
   "outputs": [],
   "source": [
    "M, m = 23., 5.\n",
    "l = 4.\n",
    "q1, q2, q3, q4 = 1., 1., 1., 1.\n",
    "r = 10.\n",
    "tf = None\n",
    "X0 = np.array([-1, -1, .1, -.2])"
   ]
  },
  {
   "cell_type": "code",
   "execution_count": null,
   "metadata": {},
   "outputs": [],
   "source": []
  }
 ],
 "metadata": {
  "kernelspec": {
   "display_name": "Python 3",
   "language": "python",
   "name": "python3"
  },
  "language_info": {
   "codemirror_mode": {
    "name": "ipython",
    "version": 3
   },
   "file_extension": ".py",
   "mimetype": "text/x-python",
   "name": "python",
   "nbconvert_exporter": "python",
   "pygments_lexer": "ipython3",
   "version": "3.8.8"
  }
 },
 "nbformat": 4,
 "nbformat_minor": 4
}
