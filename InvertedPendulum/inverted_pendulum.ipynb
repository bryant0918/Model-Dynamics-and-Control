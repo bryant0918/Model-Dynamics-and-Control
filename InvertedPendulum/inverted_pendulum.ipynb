{
 "cells": [
  {
   "cell_type": "markdown",
   "metadata": {},
   "source": [
    "<h1 align=\"center\">Volume 4: Inverse Problems.</h1>\n",
    "\n",
    "    Bryant McArthur\n",
    "    Math 439\n",
    "    March 9, 2023"
   ]
  },
  {
   "cell_type": "code",
   "execution_count": 54,
   "metadata": {},
   "outputs": [],
   "source": [
    "import numpy as np\n",
    "from scipy.optimize import root\n",
    "from scipy.integrate import solve_ivp\n",
    "from matplotlib import pyplot as plt\n",
    "from scipy import linalg as la"
   ]
  },
  {
   "cell_type": "markdown",
   "metadata": {},
   "source": [
    "# Problem 1\n",
    "\n",
    "Write a function that returns the matrices A, B, Q, and R given above. Let\n",
    "g = 9.8 m/s\n",
    "2\n",
    "."
   ]
  },
  {
   "cell_type": "code",
   "execution_count": 2,
   "metadata": {},
   "outputs": [],
   "source": [
    "def linearized_init(M, m, l, q1, q2, q3, q4, r):\n",
    "    '''\n",
    "    Parameters:\n",
    "    ----------\n",
    "    M, m: floats\n",
    "          masses of the rickshaw and the present\n",
    "    l   : float\n",
    "          length of the rod\n",
    "    q1, q2, q3, q4, r : floats\n",
    "        relative weights of the position and velocity of the rickshaw, the\n",
    "        angular displacement theta and the change in theta, and the control\n",
    "\n",
    "\n",
    "    Return\n",
    "    -------\n",
    "    Q : ndarray of shape (4,4)\n",
    "    R : ndarray of shape (1,1)\n",
    "    '''\n",
    "    g = 9.8\n",
    "    \n",
    "    A = np.array([[0,1,0,0],\n",
    "                 [0,0,m*g/M,0],\n",
    "                 [0,0,0,1],\n",
    "                 [0,0,g/(M*l)*(M+m),0]])\n",
    "    \n",
    "    B = np.array([[0],[1/M],[0],[1/(M*l)]])\n",
    "    Q = np.diag([q1,q2,q3,q4])\n",
    "    R = np.array([[r]])\n",
    "    \n",
    "    return A,B,Q,R"
   ]
  },
  {
   "cell_type": "markdown",
   "metadata": {},
   "source": [
    "# Problem 2\n",
    "\n",
    "Write the following function to find the matrix $P$ using `scipy.optimize.root`.\n",
    "Since root takes in a vector and not a matrix, you will have to reshape the matrix P before\n",
    "passing it in and after getting your result, using `np.reshape(16)` and `np.reshape((4,4))`."
   ]
  },
  {
   "cell_type": "code",
   "execution_count": 42,
   "metadata": {},
   "outputs": [],
   "source": [
    "def find_P(A,B,Q,R):\n",
    "    '''\n",
    "    Parameters:\n",
    "    ----------\n",
    "    A, Q : ndarrays of shape (4,4)\n",
    "    B : ndarray of shape (4,1)\n",
    "    R : ndarray of shape (1,1)\n",
    "    \n",
    "    Returns\n",
    "    -------\n",
    "    P : the matrix solution of the Riccati equation\n",
    "    '''\n",
    "    def f(p):\n",
    "        p = p.reshape((4,4))\n",
    "        \n",
    "        P = p@A + A.T@p + Q - p@B@np.linalg.inv(R)@B.T@p\n",
    "        \n",
    "        return P.reshape(16)\n",
    "    \n",
    "    P0 = np.ones((4,4))\n",
    "    P = root(f,P0).x\n",
    "    \n",
    "    return P.reshape((4,4))"
   ]
  },
  {
   "cell_type": "code",
   "execution_count": 43,
   "metadata": {},
   "outputs": [
    {
     "name": "stdout",
     "output_type": "stream",
     "text": [
      "[-1.72875212+0.j         -0.07538846+0.07490226j -0.07538846-0.07490226j\n",
      "  1.72530814+0.j        ]\n",
      "True\n"
     ]
    }
   ],
   "source": [
    "M, m = 23., 5.\n",
    "l = 4.\n",
    "q1, q2, q3, q4 = 1., 1., 1., 1.\n",
    "r = 10.\n",
    "\n",
    "A,B,Q,R = linearized_init(M,m,l,q1,q2,q3,q4,r)\n",
    "P = find_P(A,B,Q,R)\n",
    "\n",
    "eigs,eigvecs = np.linalg.eig(A-B@np.linalg.inv(R)@B.T@P)\n",
    "print(eigs)\n",
    "print(np.any(eigs>0))"
   ]
  },
  {
   "cell_type": "markdown",
   "metadata": {},
   "source": [
    "Yes at least one of the eigenvalues is positive. Z does not necessarily go to 0."
   ]
  },
  {
   "cell_type": "markdown",
   "metadata": {},
   "source": [
    "# Problem 3\n",
    " \n",
    "Write the following function that implements the LQR solution described earlier.\n",
    "Use `scipy.integrate.solve_ivp` to solve the IVP."
   ]
  },
  {
   "cell_type": "code",
   "execution_count": 132,
   "metadata": {},
   "outputs": [],
   "source": [
    "def rickshaw(tv, X0, A, B, Q, R, P):\n",
    "    '''\n",
    "    Parameters:\n",
    "    ----------\n",
    "    tv : ndarray of time values, with shape (n+1,)\n",
    "    X0 : Initial conditions on state variables\n",
    "    A, Q: ndarrays of shape (4,4)\n",
    "    B : ndarray of shape (4,1)\n",
    "    R : ndarray of shape (1,1)\n",
    "    P : ndarray of shape (4,4)\n",
    "    Returns\n",
    "    -------\n",
    "    Z : ndarray of shape (n+1,4), the state vector at each time\n",
    "    U : ndarray of shape (n+1,), the control values\n",
    "    '''\n",
    "    \n",
    "    def ode(t,z):\n",
    "        \"\"\"Define ODE System\"\"\"\n",
    "        return (A-B@np.linalg.inv(R)@B.T@P)@z\n",
    "\n",
    "    # solve system\n",
    "    sol = solve_ivp(ode, (tv[0],tv[-1]), X0, t_eval=tv)\n",
    "\n",
    "    U = -np.linalg.inv(R)@B.T@P@sol.y\n",
    "    \n",
    "    return sol.y, U.flatten(), sol.t"
   ]
  },
  {
   "cell_type": "markdown",
   "metadata": {},
   "source": [
    "# Problem 4\n",
    "\n",
    "Test the function made in Problem (3). Find the matrix $P$ using the `scipy.optimize.root` method and plot with `tf=6` as well as the `solve_continuous_are`\n",
    "method and plot with `tf=60`. Plot the solutions $\\tilde{z}$ and $\\tilde{u}$. Compare your results to Figure\n",
    "21.3."
   ]
  },
  {
   "cell_type": "code",
   "execution_count": 137,
   "metadata": {},
   "outputs": [],
   "source": [
    "M, m = 23., 5.\n",
    "l = 4.\n",
    "q1, q2, q3, q4 = 1., 1., 1., 1.\n",
    "r = 10.\n",
    "tf = 6\n",
    "X0 = np.array([-1, -1, .1, -.2])\n",
    "\n",
    "tv = np.linspace(0,tf,200)\n",
    "\n",
    "P = find_P(A,B,Q,R)\n",
    "\n",
    "Z,U,t = rickshaw(tv,X0,A,B,Q,R,P)"
   ]
  },
  {
   "cell_type": "code",
   "execution_count": 138,
   "metadata": {},
   "outputs": [
    {
     "data": {
      "image/png": "[encoded data removed]",
      "text/plain": [
       "<Figure size 432x288 with 1 Axes>"
      ]
     },
     "metadata": {
      "needs_background": "light"
     },
     "output_type": "display_data"
    }
   ],
   "source": [
    "plt.plot(t,U, label='u')\n",
    "plt.plot(t,Z[0], label='x')\n",
    "plt.plot(t,Z[1], label=\"x'\")\n",
    "plt.plot(t,Z[2], label=r\"$\\theta$\")\n",
    "plt.plot(t,Z[3], label=r\"$\\theta'$\")\n",
    "plt.title(\"Using scipy.optimize.root\")\n",
    "plt.xlim(0,6)\n",
    "plt.ylim(-60,20)\n",
    "plt.legend()\n",
    "plt.show()"
   ]
  },
  {
   "cell_type": "code",
   "execution_count": 135,
   "metadata": {},
   "outputs": [],
   "source": [
    "P = la.solve_continuous_are(A,B,Q,R)\n",
    "tf = 60\n",
    "tv = np.linspace(0,tf,100)\n",
    "\n",
    "Z,U,t = rickshaw(tv,X0,A,B,Q,R,P)"
   ]
  },
  {
   "cell_type": "code",
   "execution_count": 136,
   "metadata": {},
   "outputs": [
    {
     "data": {
      "image/png": "[encoded data removed]",
      "text/plain": [
       "<Figure size 432x288 with 1 Axes>"
      ]
     },
     "metadata": {
      "needs_background": "light"
     },
     "output_type": "display_data"
    }
   ],
   "source": [
    "plt.plot(t,U, label='u')\n",
    "plt.plot(t,Z[0], label='x')\n",
    "plt.plot(t,Z[1], label=\"x'\")\n",
    "plt.plot(t,Z[2], label=r\"$\\theta$\")\n",
    "plt.plot(t,Z[3], label=r\"$\\theta'$\")\n",
    "plt.title(\"Using solve_continuous_are\")\n",
    "plt.legend()\n",
    "plt.show()"
   ]
  },
  {
   "cell_type": "code",
   "execution_count": null,
   "metadata": {},
   "outputs": [],
   "source": []
  }
 ],
 "metadata": {
  "kernelspec": {
   "display_name": "Python 3",
   "language": "python",
   "name": "python3"
  },
  "language_info": {
   "codemirror_mode": {
    "name": "ipython",
    "version": 3
   },
   "file_extension": ".py",
   "mimetype": "text/x-python",
   "name": "python",
   "nbconvert_exporter": "python",
   "pygments_lexer": "ipython3",
   "version": "3.8.8"
  }
 },
 "nbformat": 4,
 "nbformat_minor": 4
}
