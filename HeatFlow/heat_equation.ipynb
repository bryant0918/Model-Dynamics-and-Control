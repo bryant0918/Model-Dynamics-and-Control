{
 "cells": [
  {
   "cell_type": "code",
   "execution_count": 13,
   "metadata": {},
   "outputs": [],
   "source": [
    "import numpy as np\n",
    "import matplotlib.pyplot as plt\n",
    "import scipy.linalg as la\n",
    "from scipy.sparse.linalg import spsolve\n",
    "import matplotlib.animation as animation\n",
    "from scipy import sparse"
   ]
  },
  {
   "cell_type": "code",
   "execution_count": 2,
   "metadata": {},
   "outputs": [],
   "source": [
    "%matplotlib inline"
   ]
  },
  {
   "cell_type": "markdown",
   "metadata": {},
   "source": [
    "# Problem 1\n",
    "\n",
    "Consider the initial/boundary value problem\n",
    "\n",
    "\\begin{align}\n",
    "\t\\begin{split}\n",
    "\t&{ } u_t = 0.05 u_{xx}, \\quad x \\in [0,1], \\quad t \\in [0,1]\\\\\n",
    "\t&{ } u(0,t) = 0,\\quad u(1,t) = 0,\\\\\n",
    "\t&{ } u(x,0) = 2\\max\\{0.2 - |x-0.5|,0\\}.\n",
    "\t\\end{split}\n",
    "\\end{align}\n",
    "\n",
    "Approximate the solution $u(x,t)$ by taking 6 subintervals in the $x$ dimension and 10 subintervals in time.\n",
    "Plot the approximation at $t=0, t=0.4$, and $t=1$."
   ]
  },
  {
   "cell_type": "code",
   "execution_count": 3,
   "metadata": {},
   "outputs": [],
   "source": [
    "def prob1(f,n,m,h,k,v,x):\n",
    "    t = np.linspace(0,1,m+1)\n",
    "    \n",
    "    #calculate lambda from the parameters\n",
    "    lam = v*k/(h**2)\n",
    "\n",
    "    #create the diagonals for A\n",
    "    diag1 = np.ones(n)*lam\n",
    "    diag1[0] = 0\n",
    "    diag2 = np.ones(n+1)*(1-2*lam)\n",
    "    diag2[0], diag2[-1] = 1, 1\n",
    "    diag3 = np.ones(n)*lam\n",
    "    diag3[-1] = 0\n",
    "\n",
    "    #form A from the diagonals\n",
    "    A = np.diag(diag1, k=1) + np.diag(diag2) + np.diag(diag3, k=-1)\n",
    "\n",
    "    #find U at time zero\n",
    "    u0 = f(x)\n",
    "    U = np.zeros((m+1, n+1))\n",
    "    U[0] = u0\n",
    "\n",
    "    #use the explicit method to find U\n",
    "    for i in range(1,m+1):\n",
    "        U[i] = A @ U[i-1]\n",
    "\n",
    "    return x, U"
   ]
  },
  {
   "cell_type": "code",
   "execution_count": 17,
   "metadata": {},
   "outputs": [],
   "source": [
    "#define the parameters for the problem\n",
    "n = 6\n",
    "m = 10\n",
    "h = 1/6\n",
    "k = 1/10\n",
    "v = .05\n",
    "x = np.linspace(0,1,n+1)\n",
    "#define f\n",
    "f = lambda x: 2*np.max(((.2 - np.abs(x - .5)), 0))\n",
    "f = np.vectorize(f)"
   ]
  },
  {
   "cell_type": "code",
   "execution_count": 18,
   "metadata": {},
   "outputs": [
    {
     "data": {
      "image/png": "[encoded data removed]",
      "text/plain": [
       "<Figure size 432x288 with 1 Axes>"
      ]
     },
     "metadata": {
      "needs_background": "light"
     },
     "output_type": "display_data"
    }
   ],
   "source": [
    "t = np.linspace(0,1,m+1)\n",
    "x, U = prob1(f,n,m,h,k,v,x)\n",
    "\n",
    "#plot the soln\n",
    "plt.plot(x,U[0],marker='o', label = 't = '+str(t[0]))\n",
    "plt.plot(x,U[4], marker='o', label = 't = '+str(t[4]))\n",
    "plt.plot(x,U[-1], marker='o', label = 't = '+str(t[-1]))\n",
    "plt.ylim([-.1,.5])\n",
    "plt.legend()\n",
    "plt.title(\"Approximate Solutions at Different t-vals\")\n",
    "plt.show()"
   ]
  },
  {
   "cell_type": "markdown",
   "metadata": {},
   "source": [
    "# Problem 2\n",
    "\n",
    "Solve the initial/boundary value problem\n",
    "\n",
    "\\begin{align}\n",
    "\t\\begin{split}\n",
    "\t&{ } u_t = u_{xx}, \\quad x \\in [-12,12],\\quad t \\in [0,1], \\\\\n",
    "\t&{ } u(-12,t) = 0,\\quad u(12,t) = 0,\\\\\n",
    "\t&{ } u(x,0) = \\max\\{1 - x^2,0\\}\n",
    "\t\\end{split}\n",
    "\\end{align}\n",
    "\n",
    "using the first order explicit method (1.1).\n",
    "Use 140 subintervals in the $x$ dimension and 70 subintervals in time.\n",
    "The initial and final states are shown in Figures 1 and 2.\n",
    "Animate your results.\n",
    "\n",
    "Explicit methods usually have a stability condition, called a CFL condition (for Courant-Friedrichs-Lewy).\n",
    "For method (1.1) the CFL condition that must be satisfied is that:\n",
    "\n",
    "$$\\lambda \\leq \\frac{1}{2}$$\n",
    "\n",
    "Repeat your computations using 140 subintervals in the $x$ dimension and 66 subintervals in time. Animate the results.\n",
    "For these values the CFL condition is broken; you should easily see the result of this instability in the approximation $U^{66}$.\n"
   ]
  },
  {
   "cell_type": "code",
   "execution_count": 6,
   "metadata": {},
   "outputs": [],
   "source": [
    "#define our parameters\n",
    "n = 140\n",
    "m = 70\n",
    "x = np.linspace(-12,12,n+1)\n",
    "t = np.linspace(0,1,m+1)\n",
    "h = 24/n\n",
    "k = 1/m\n",
    "v = 1\n",
    "#define f\n",
    "def f(x):\n",
    "    return np.where(1-x**2 > 0, 1 - x**2, 0)"
   ]
  },
  {
   "cell_type": "code",
   "execution_count": 7,
   "metadata": {},
   "outputs": [
    {
     "data": {
      "image/png": "[encoded data removed]",
      "text/plain": [
       "<Figure size 432x288 with 1 Axes>"
      ]
     },
     "metadata": {
      "needs_background": "light"
     },
     "output_type": "display_data"
    }
   ],
   "source": [
    "x,U = prob1(f,n,m,h,k,v,x)\n",
    "\n",
    "#animate the rows (time solutions) of U\n",
    "fig = plt.figure()\n",
    "ax = fig.add_subplot(111)\n",
    "ax.set_xlim((-12,12))\n",
    "ax.set_ylim((-.1,1))\n",
    "traj, = plt.plot([], [], color = 'r', alpha=.5)\n",
    "def update(i):\n",
    "    traj.set_data(x,U[i])    #create our update function\n",
    "    return traj\n",
    "    \n",
    "wave_anime = animation.FuncAnimation(fig, update, frames=range(m), interval=100)\n",
    "wave_anime.save(\"heat_equation1.mp4\")"
   ]
  },
  {
   "cell_type": "markdown",
   "metadata": {},
   "source": [
    "<video src=\"heat_equation1.mp4\" controls>"
   ]
  },
  {
   "cell_type": "code",
   "execution_count": 8,
   "metadata": {},
   "outputs": [],
   "source": [
    "#define our parameters (use different time step)\n",
    "n = 140\n",
    "m = 66\n",
    "x = np.linspace(-12,12,n+1)\n",
    "t = np.linspace(0,1,m+1)\n",
    "h = 24/n\n",
    "k = 1/m\n",
    "v = 1"
   ]
  },
  {
   "cell_type": "code",
   "execution_count": 9,
   "metadata": {},
   "outputs": [
    {
     "data": {
      "image/png": "[encoded data removed]",
      "text/plain": [
       "<Figure size 432x288 with 1 Axes>"
      ]
     },
     "metadata": {
      "needs_background": "light"
     },
     "output_type": "display_data"
    }
   ],
   "source": [
    "x,U = prob1(f,n,m,h,k,v,x)\n",
    "\n",
    "#animate the rows (time solutions) of U\n",
    "fig = plt.figure()\n",
    "ax = fig.add_subplot(111)\n",
    "ax.set_xlim((-12,12))\n",
    "ax.set_ylim((-.1,1))\n",
    "traj, = plt.plot([], [], color = 'r', alpha=.5)\n",
    "def update(i):\n",
    "    traj.set_data(x,U[i])    #create our update function\n",
    "    return traj\n",
    "    \n",
    "wave_anime = animation.FuncAnimation(fig, update, frames=range(m), interval=100)\n",
    "wave_anime.save(\"heat_equation2.mp4\")"
   ]
  },
  {
   "cell_type": "markdown",
   "metadata": {},
   "source": [
    "<video src=\"heat_equation2.mp4\" controls>"
   ]
  },
  {
   "cell_type": "markdown",
   "metadata": {},
   "source": [
    "# Problem 3\n",
    "\n",
    "Using the Crank Nicolson method, numerically approximate the solution $u(x,t)$ of the problem\n",
    "\\begin{align}\n",
    "\t\\begin{split}\n",
    "\t&{ } u_t = u_{xx}, \\quad x \\in [-12,12],\\quad t \\in [0,1],\\\\\n",
    "\t&{ } u(-12,t) = 0,\\quad u(12,t) = 0,\\\\\n",
    "\t&{ } u(x,0) = \\max\\{1 - x^2,0\\}.\n",
    "\t\\end{split}\n",
    "\\end{align}\n",
    "Note that this is an implicit linear scheme; hence, the most efficient way to find $U^{j+1}$ is to create the matrix $B$ as a sparse matrix and then use \\li{scipy.sparse.linalg.solve}.\n",
    "\n",
    "Demonstrate that the numerical approximation at $t = 1$ converges.\n",
    "Do this by computing $U$ at $t=1$ using $20,40,80,160,320$, and $640$ steps.\n",
    "Use the same number of steps in both time and space.\n",
    "Reproduce the loglog plot shown in the lab.\n",
    "The slope of the line there shows the order of convergence.\n",
    "\n",
    "To measure the error, use the solution with the smallest $h$ (largest number of intervals) as if it were the exact solution, then sample each solution only at the x-values that are represented in the solution with the largest $h$ (smallest number of intervals).\n",
    "Use the $\\infty$-norm on the arrays of values at those points to measure the error.\n",
    "\n",
    "Notice that, since the Crank-Nicolson method is unconditionally stable, there is no CFL condition, and we can safely use the same number of intervals in time and space."
   ]
  },
  {
   "cell_type": "code",
   "execution_count": 10,
   "metadata": {},
   "outputs": [],
   "source": [
    "def heat_cn(nu,f,xbounds,tbounds,xsteps,tsteps):\n",
    "    \"\"\"Computes the Crank-Nicholson solution to the heat equation initial/boundary\n",
    "    value problem:\n",
    "    \n",
    "        u_t = νu_xx, x∈[x0,x1] t∈[t0,t1]\n",
    "        u(x0,t) = 0, u(x1,t) = 0\n",
    "        u(x,0) = f(x)\n",
    "    \"\"\"\n",
    "    #define our parameters\n",
    "    n = xsteps\n",
    "    m = tsteps\n",
    "    x = np.linspace(xbounds[0],xbounds[1],n+1)\n",
    "    t = np.linspace(tbounds[0],tbounds[1],m+1)\n",
    "    h = (xbounds[1]-xbounds[0])/n\n",
    "    k = (tbounds[1]-tbounds[0])/m\n",
    "    v = nu\n",
    "    \n",
    "    #calculate lambda from our parameters\n",
    "    lam = v*k/(2*h**2)\n",
    "    \n",
    "    #create the diagonals for A\n",
    "    diag1 = np.ones(n)*lam\n",
    "    diag1[0] = 0\n",
    "    diag2 = np.ones(n+1)*(1-2*lam)\n",
    "    diag2[0], diag2[-1] = 1, 1\n",
    "    diag3 = np.ones(n)*lam\n",
    "    diag3[-1] = 0\n",
    "    \n",
    "    #create sparse A from diagonals\n",
    "    A = np.diag(diag1, k=1) + np.diag(diag2) + np.diag(diag3, k=-1)\n",
    "    A = sparse.csr_matrix(A)\n",
    "    \n",
    "    diag1 = np.ones(n)*-lam\n",
    "    diag1[0] = 0\n",
    "    diag2 = np.ones(n+1)*(1+2*lam)\n",
    "    diag2[0], diag2[-1] = 1, 1\n",
    "    diag3 = np.ones(n)*-lam\n",
    "    diag3[-1] = 0\n",
    "    \n",
    "    #create B from diagonals\n",
    "    B = np.diag(diag1, k=1) + np.diag(diag2) + np.diag(diag3, k=-1)\n",
    "    \n",
    "    #find the solution at t=0\n",
    "    u0 = f(x)\n",
    "    U = np.zeros((m+1, n+1))\n",
    "    U[0] = u0\n",
    "    \n",
    "    #find the solution for all values of t\n",
    "    for i in range(1,m+1):\n",
    "        U[i] = spsolve(B, A@U[i-1])\n",
    "    \n",
    "    return U"
   ]
  },
  {
   "cell_type": "code",
   "execution_count": 11,
   "metadata": {},
   "outputs": [],
   "source": [
    "#define the parameters for this problem\n",
    "nu = 1\n",
    "def f(x):\n",
    "    return np.where(1-x**2 > 0, 1 - x**2, 0)\n",
    "xbounds = [-12,12]\n",
    "tbounds = [0,1]\n",
    "approx = []"
   ]
  },
  {
   "cell_type": "code",
   "execution_count": 14,
   "metadata": {},
   "outputs": [
    {
     "name": "stderr",
     "output_type": "stream",
     "text": [
      "C:\\Users\\bryan\\anaconda3\\lib\\site-packages\\scipy\\sparse\\linalg\\dsolve\\linsolve.py:144: SparseEfficiencyWarning: spsolve requires A be CSC or CSR matrix format\n",
      "  warn('spsolve requires A be CSC or CSR matrix format',\n"
     ]
    }
   ],
   "source": [
    "#calculate the approximations for each stepsize only at the locations of largest step size\n",
    "for interval in [(1,20), (2,40), (4,80), (8,160), (16,320), (32,640)]:\n",
    "    vals = interval[0]*np.arange(21)\n",
    "    xsteps, tsteps = interval[1], interval[1]\n",
    "    U = heat_cn(nu,f,xbounds,tbounds,xsteps,tsteps)\n",
    "    approx.append(U[-1][vals])\n",
    "\n",
    "#treat the smallest step size as true solution\n",
    "soln = approx[-1]\n",
    "#find the error of each stepsize\n",
    "errors = [np.max(np.abs(soln - ap)) for ap in approx[:-1]]\n",
    "\n",
    "#calculate the stepsize and stepsize squared for each case\n",
    "hs = [((xbounds[1]-xbounds[0])/n) for n in [20, 40, 80, 160, 320]]\n",
    "hsquared = [h**2 for h in hs]"
   ]
  },
  {
   "cell_type": "code",
   "execution_count": 21,
   "metadata": {},
   "outputs": [
    {
     "data": {
      "image/png": "[encoded data removed]",
      "text/plain": [
       "<Figure size 432x288 with 1 Axes>"
      ]
     },
     "metadata": {
      "needs_background": "light"
     },
     "output_type": "display_data"
    }
   ],
   "source": [
    "#plot the error and h squared on log scale\n",
    "plt.loglog(hs, errors, color='black', marker='o', label=\"Error E(h)\")\n",
    "plt.loglog(hs, hsquared, color='r', label='$h^2$')\n",
    "\n",
    "plt.legend()\n",
    "plt.ylim(10e-5, 10)\n",
    "plt.xlim(10e-3, 10)\n",
    "plt.xlabel('h')\n",
    "plt.title(\"Error and $h^2$\")\n",
    "plt.show()"
   ]
  },
  {
   "cell_type": "code",
   "execution_count": null,
   "metadata": {},
   "outputs": [],
   "source": []
  }
 ],
 "metadata": {
  "kernelspec": {
   "display_name": "Python 3",
   "language": "python",
   "name": "python3"
  },
  "language_info": {
   "codemirror_mode": {
    "name": "ipython",
    "version": 3
   },
   "file_extension": ".py",
   "mimetype": "text/x-python",
   "name": "python",
   "nbconvert_exporter": "python",
   "pygments_lexer": "ipython3",
   "version": "3.8.8"
  }
 },
 "nbformat": 4,
 "nbformat_minor": 2
}
