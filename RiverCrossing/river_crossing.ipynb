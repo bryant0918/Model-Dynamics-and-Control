{
 "cells": [
  {
   "cell_type": "markdown",
   "metadata": {},
   "source": [
    "<h1 align=\"center\">Volume 4: River Crossing.</h1>\n",
    "\n",
    "    Bryant McArthur\n",
    "    Math 439\n",
    "    February 2, 2023"
   ]
  },
  {
   "cell_type": "code",
   "execution_count": 1,
   "metadata": {},
   "outputs": [],
   "source": [
    "import numpy as np\n",
    "from scipy.integrate import quad\n",
    "from matplotlib import pyplot as plt\n",
    "from scipy.interpolate import barycentric_interpolate as bary\n",
    "from numpy import linalg as la\n",
    "from scipy.optimize import root"
   ]
  },
  {
   "cell_type": "markdown",
   "metadata": {},
   "source": [
    "# Problem 1\n",
    "Assume that the current is given by $c(x) = −\n",
    "\\frac{7}{10} (x^2 − 1)$. (This function assumes, for example, that the current is faster near the center of the river.) Write a Python\n",
    "function that accepts as arguments a function $y$, its derivative $y'$, and an $x$-value, and returns $L(x, y(x), y'(x))$ (where $T[y]=\\int^1_{-1} L(x,y(x),y'(x))dx$ Use that function to defune a second\n",
    "function that numerically computes $T[y]$ for a given path $y(x)$."
   ]
  },
  {
   "cell_type": "code",
   "execution_count": 2,
   "metadata": {},
   "outputs": [],
   "source": [
    "def first(y, dy, x):\n",
    "    c = lambda x: -(7/10)*(x**2 - 1)\n",
    "    alpha = lambda x: (1-c(x)**2)**(-.5)\n",
    "    return lambda x: alpha(x)*np.sqrt(1+(alpha(x)*dy(x))**2) - (alpha(x)**2*c(x)*dy(x))\n",
    "\n",
    "def second(y,dy,x_val=0):\n",
    "    return quad(first(y,dy,x_val), -1, 1)[0]"
   ]
  },
  {
   "cell_type": "markdown",
   "metadata": {},
   "source": [
    "# Problem 2\n",
    "\n",
    "Let y(x) be the straight-line path between A = (−1, 0) and B = (1, 5). Numerically calculate T[y] to get an upper bound on the minimum time required to cross from A to\n",
    "B. Using (18.2), find a lower bound on the minimum time required to cross."
   ]
  },
  {
   "cell_type": "code",
   "execution_count": 3,
   "metadata": {},
   "outputs": [
    {
     "name": "stdout",
     "output_type": "stream",
     "text": [
      "Upper bound:  3.8770820491384126\n",
      "Lower bound:  2.0\n"
     ]
    }
   ],
   "source": [
    "a,b = -1,1\n",
    "alpha,beta = 0,5\n",
    "x0 = np.linspace(a,b,100+1)\n",
    "y = lambda x: (beta - alpha)/(b-a)*(x-a) + alpha\n",
    "dy = lambda x: 5/2 + 0*x\n",
    "\n",
    "T = second(y,dy,x0)\n",
    "print(\"Upper bound: \", T)\n",
    "\n",
    "# to take a lower bound assume secant is one\n",
    "secant = lambda x: 1\n",
    "print(\"Lower bound: \", quad(secant, -1, 1)[0])"
   ]
  },
  {
   "cell_type": "markdown",
   "metadata": {},
   "source": [
    "# Problem 3\n",
    "\n",
    "Numerically solve the Euler-Lagrange equation (18.4), using c(x) = −\n",
    "7\n",
    "10 (x\n",
    "2 − 1)\n",
    "and α = (1 − c\n",
    "2\n",
    ")\n",
    "−1/2\n",
    ", and y(−1) = 0, y(1) = 5.\n",
    "Hint: Since this boundary value problem is defined over the doimain [−1, 1], it is easy to\n",
    "solve using the pseudospectral method. Begin by replacing each d\n",
    "dx with the pseudospectral\n",
    "differentiation matrix D. Then impose the boundary conditions and solve."
   ]
  },
  {
   "cell_type": "code",
   "execution_count": 4,
   "metadata": {},
   "outputs": [],
   "source": [
    "def cheb(N):\n",
    "    x = np.cos((np.pi/N)*np.linspace(0,N,N+1))\n",
    "    x.shape = (N+1,1)\n",
    "    lin = np.linspace(0,N,N+1)\n",
    "    lin.shape = (N+1,1)\n",
    "    \n",
    "    c = np.ones((N+1,1))\n",
    "    c[0], c[-1] = 2., 2.\n",
    "    c = c*(-1.)**lin\n",
    "    X = x*np.ones(N+1) # broadcast along 2nd dimension (columns)\n",
    "    \n",
    "    dX = X - X.T\n",
    "    \n",
    "    D = (c*(1./c).T)/(dX + np.eye(N+1))\n",
    "    D = D - np.diag(np.sum(D.T,axis=0))\n",
    "    x.shape = (N+1,)\n",
    "    # Here we return the differentiation matrix and the Chebyshev points,\n",
    "    # numbered from x_0 = 1 to x_N = -1\n",
    "    return D, x"
   ]
  },
  {
   "cell_type": "code",
   "execution_count": 5,
   "metadata": {},
   "outputs": [
    {
     "data": {
      "image/png": "[encoded data removed]",
      "text/plain": [
       "<Figure size 432x288 with 1 Axes>"
      ]
     },
     "metadata": {
      "needs_background": "light"
     },
     "output_type": "display_data"
    }
   ],
   "source": [
    "def first(dy, x):\n",
    "    c = lambda x: -(7/10)*(x**2 - 1)\n",
    "    alpha = lambda x: (1-c(x)**2)**(-.5)\n",
    "    return (alpha(x)**3)*dy*(1+(alpha(x)*dy)**2)**(-.5) - alpha(x)**2*c(x)\n",
    "\n",
    "D,x = cheb(5)\n",
    "def new_f(y):\n",
    "    dy = D@y\n",
    "    \n",
    "    chunk = first(dy,x)\n",
    "    big_chunk = D@chunk\n",
    "    \n",
    "    # Force Conditions\n",
    "    big_chunk[0] -=  y[0]-5\n",
    "    big_chunk[-1] -= y[-1]\n",
    "    \n",
    "    \n",
    "    return big_chunk\n",
    "    \n",
    " \n",
    "a,b = -1,1\n",
    "alpha,beta = 0,5\n",
    "x0 = np.linspace(a,b,6)\n",
    "y = lambda x: (beta - alpha)/(b-a)*(x-a) + alpha\n",
    "y0 = y(x0)\n",
    "\n",
    "roots = root(new_f, y(x0)).x\n",
    "\n",
    "baryx = np.linspace(-1, 1, 100)\n",
    "y = bary(x, roots, baryx)\n",
    "\n",
    "plt.plot(baryx, y, label=\"roots\")\n",
    "plt.plot(x0, y0, label=\"Initial guess\")\n",
    "plt.legend()\n",
    "plt.show()"
   ]
  },
  {
   "cell_type": "markdown",
   "metadata": {},
   "source": [
    "# Problem 4\n",
    "\n",
    "Plot the angle at which the boat should be pointed at each $x$-coordinate. (Hint: use Equation 1.1; see Figure 1.3. Note that the angle the boat should be steered is NOT described by the tangent vector to the trjaectory)"
   ]
  },
  {
   "cell_type": "code",
   "execution_count": 11,
   "metadata": {},
   "outputs": [
    {
     "data": {
      "image/png": "[encoded data removed]",
      "text/plain": [
       "<Figure size 432x288 with 1 Axes>"
      ]
     },
     "metadata": {
      "needs_background": "light"
     },
     "output_type": "display_data"
    }
   ],
   "source": [
    "a,b = -1,1\n",
    "alpha,beta = 0,5\n",
    "x0 = np.linspace(a,b,100)\n",
    "\n",
    "plt.plot(x0, bary(x,D@roots,baryx)/(np.pi))\n",
    "plt.show()"
   ]
  },
  {
   "cell_type": "code",
   "execution_count": null,
   "metadata": {},
   "outputs": [],
   "source": []
  }
 ],
 "metadata": {
  "kernelspec": {
   "display_name": "Python 3",
   "language": "python",
   "name": "python3"
  },
  "language_info": {
   "codemirror_mode": {
    "name": "ipython",
    "version": 3
   },
   "file_extension": ".py",
   "mimetype": "text/x-python",
   "name": "python",
   "nbconvert_exporter": "python",
   "pygments_lexer": "ipython3",
   "version": "3.8.8"
  }
 },
 "nbformat": 4,
 "nbformat_minor": 4
}
