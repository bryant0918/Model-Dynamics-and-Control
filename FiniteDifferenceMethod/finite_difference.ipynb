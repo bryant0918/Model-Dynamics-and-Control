{
 "cells": [
  {
   "cell_type": "code",
   "execution_count": 1,
   "metadata": {},
   "outputs": [],
   "source": [
    "import numpy as np\n",
    "import matplotlib.pyplot as plt\n",
    "import scipy.linalg as la"
   ]
  },
  {
   "cell_type": "code",
   "execution_count": 2,
   "metadata": {},
   "outputs": [],
   "source": [
    "%matplotlib inline"
   ]
  },
  {
   "cell_type": "markdown",
   "metadata": {},
   "source": [
    "# Problem 1\n",
    "\n",
    "Let $u(x) = sin((x + \\pi)^2 - 1)$. Use (1.3) - (1.6) to approximate $\\frac{1}{2}\n",
    "u'' − u'$ at the grid points where $a = 0$, $b = 1$, and $n = 10$. Graph the result."
   ]
  },
  {
   "cell_type": "code",
   "execution_count": 55,
   "metadata": {},
   "outputs": [
    {
     "data": {
      "text/plain": [
       "Text(0.5, 1.0, \"Approximating .5u''-u'\")"
      ]
     },
     "execution_count": 55,
     "metadata": {},
     "output_type": "execute_result"
    },
    {
     "data": {
      "image/png": "[encoded data removed]",
      "text/plain": [
       "<Figure size 432x288 with 1 Axes>"
      ]
     },
     "metadata": {
      "needs_background": "light"
     },
     "output_type": "display_data"
    }
   ],
   "source": [
    "a,b=0,1\n",
    "n=10\n",
    "\n",
    "u = lambda x: np.sin((x+np.pi)**2-1)\n",
    "\n",
    "domain = np.linspace(a,b,11)\n",
    "h = (b-a)/n\n",
    "\n",
    "matrix = np.diag(-np.ones(n-2), k=-1) + np.diag(np.ones(n-2),k=1)\n",
    "\n",
    "u_prime = (matrix @ np.array([u(x) for x in domain[1:n]]))/(2*h) + np.array([-u(domain[0])/(2*h),0,0,0,0,0,0,0,u(domain[-1])/(2*h)])\n",
    "\n",
    "matrix = np.diag(np.ones(n-2), k=-1) + np.diag(np.ones(n-2),k=1) - 2*np.diag(np.ones(n-1))\n",
    "u_xx = (matrix @ np.array([u(x) for x in domain[1:n]]))/(h**2) + np.array([u(domain[0])/(h**2),0,0,0,0,0,0,0,u(domain[-1])/(h**2)])\n",
    "\n",
    "\n",
    "soln = .5*u_xx-u_prime\n",
    "\n",
    "plt.plot(domain[1:-1],soln)\n",
    "plt.xlabel(\"x\")\n",
    "plt.ylabel(\"Approximation\")\n",
    "plt.title(\"Approximating .5u''-u'\")"
   ]
  },
  {
   "cell_type": "markdown",
   "metadata": {},
   "source": [
    "# Problem 2\n",
    "\n",
    "Equation (1.7) is the singularly perturbed boundary value problem\n",
    "\\begin{align*}\n",
    "\t&{ } \\varepsilon u''(x)-u(x)'= f(x), \\quad x \\in (0,1), \\\\\n",
    "\t&{ } u(0) = \\alpha, \\quad u(1) = \\beta.\n",
    "\\end{align*}\n",
    "\n",
    "Use equation (1.9) to solve the singularly perturbed BVP (1.7) on $[0,1]$ with $\\varepsilon = 1/10, f(x) = -1, \\alpha=1,$ and $\\beta=3$ on a grid with $n=30$ subintervals. Graph the solution. This BVP is called singularly perturbed because of the location of the parameter $\\varepsilon$. For $\\varepsilon=0$ the ODE has a drastically different character - it then becomes first order, and can no longer support two boundary conditions."
   ]
  },
  {
   "cell_type": "code",
   "execution_count": 63,
   "metadata": {},
   "outputs": [
    {
     "name": "stdout",
     "output_type": "stream",
     "text": [
      "[1.03334986 1.06670634 1.10007206 1.13345075 1.16684758 1.20026981\n",
      " 1.2337276  1.26723516 1.30081243 1.33448726 1.36829869 1.40230136\n",
      " 1.43657177 1.471217   1.506387   1.54229166 1.57922485 1.61759799\n",
      " 1.65798704 1.70119839 1.74836094 1.80105517 1.86149377 1.93277447\n",
      " 2.01923413 2.12694431 2.26440522 2.44351718 2.68094057]\n"
     ]
    },
    {
     "data": {
      "text/plain": [
       "Text(0.5, 1.0, 'Solving BVP')"
      ]
     },
     "execution_count": 63,
     "metadata": {},
     "output_type": "execute_result"
    },
    {
     "data": {
      "image/png": "[encoded data removed]",
      "text/plain": [
       "<Figure size 432x288 with 1 Axes>"
      ]
     },
     "metadata": {
      "needs_background": "light"
     },
     "output_type": "display_data"
    }
   ],
   "source": [
    "a,b=0,1\n",
    "n=30\n",
    "\n",
    "domain = np.linspace(a,b,n+1)\n",
    "h = (b-a)/n\n",
    "e = .1\n",
    "\n",
    "matrix = np.diag(e+(h/2)*np.ones(n-2),k=-1)+np.diag(-2*e*np.ones(n-1))+np.diag(e-(h/2)*np.ones(n-2),k=1)\n",
    "mid = -np.ones(n-3)\n",
    "vec = np.hstack((np.array([-1-(e+(h/2))/h**2]),mid,np.array([-1-3*(e-(h/2))/h**2])))\n",
    "\n",
    "soln = la.solve(matrix/h**2,vec)\n",
    "print(soln)\n",
    "\n",
    "plt.plot(domain[1:-1],soln)\n",
    "plt.xlabel(\"x\")\n",
    "plt.ylabel(\"Solution\")\n",
    "plt.title(\"Solving BVP\")"
   ]
  },
  {
   "cell_type": "markdown",
   "metadata": {},
   "source": [
    "# Problem 3\n",
    "\n",
    "Implement a function `singular_bvp` to compute the finite difference solution to (1.7).\n",
    "Using $n = 5 \\times 2^0,5 \\times 2^1, \\dots ,5 \\times 2^9$ subintervals, compute 10 approximate solutions.\n",
    "Use these to visualize the $\\mathcal{O}(h^2)$ convergence of the finite difference method from Problem 2 by producing a loglog plot of error against subinterval count; this will be similar to Figure 2, except with $\\varepsilon=0.1$. \n",
    "\n",
    "To produce the plot, treat the approximation with $n = 5 \\times 2^9$ subintervals as the \"true solution\", and measure the error for the other approximations against it. ote that, since the ratios of numbers of subintervals between approximations are multiples of 2, we can compute the $L_{\\infty}$ error for the $n=5 \\times 2^j$ approximation by using the `step` argument in the array slicing syntax:\n",
    "\n",
    "    # best approximation; the vector has length 5*2^9+1\n",
    "    sol_best = singular_bvp(eps,alpha,beta,f,5*(2**9))\n",
    "\n",
    "    # approximation with 5*(2^j) intervals; the vector has length 5*2^j+1\n",
    "    sol_approx = singular_bvp(eps,alpha,beta,f,5*(2**j))\n",
    "\n",
    "    # approximation error; slicing results in a vector of length 5*2^j+1,\n",
    "    #    which allows it to be compared\n",
    "    error = np.max(np.abs(sol_approx - sol_best[::2**(9-j)]))\n"
   ]
  },
  {
   "cell_type": "code",
   "execution_count": 85,
   "metadata": {},
   "outputs": [],
   "source": [
    "def singular_bvp(eps,alpha,beta,f,n):\n",
    "    \"\"\"\n",
    "    Solves the singularly perturbed BVP (1.7) on the interval [0,1] using finite differences.\n",
    "    \n",
    "    Parameters:\n",
    "        eps (float): the singular perturbation parameter of the BVP.\n",
    "        alpha (float): the boundary value of u at x=0.\n",
    "        beta (float): the boundary value of u at x=1.\n",
    "        f (callable): the right-hand function of the BVP.\n",
    "        n (int): the number of subintervals to use in the finite differences method.\n",
    "        \n",
    "    Returns:\n",
    "        ((n+1,) ndarray): the approximated solution to the BVP, including the boundary points.\n",
    "    \"\"\"\n",
    "    h = 1/n\n",
    "    \n",
    "    matrix = np.diag(e+(h/2)*np.ones(n-2),k=-1)+np.diag(-2*e*np.ones(n-1))+np.diag(e-(h/2)*np.ones(n-2),k=1)\n",
    "    mid = -np.ones(n-3)\n",
    "    vec = np.hstack((np.array([-1-alpha*(e+(h/2))/h**2]),mid,np.array([-1-beta*(e-(h/2))/h**2])))\n",
    "\n",
    "    soln = la.solve(matrix/h**2,vec)\n",
    "    approx = np.hstack((np.array([alpha]), soln, np.array([beta])))\n",
    "\n",
    "    return approx"
   ]
  },
  {
   "cell_type": "code",
   "execution_count": 92,
   "metadata": {},
   "outputs": [
    {
     "data": {
      "text/plain": [
       "Text(0, 0.5, 'Sup-error')"
      ]
     },
     "execution_count": 92,
     "metadata": {},
     "output_type": "execute_result"
    },
    {
     "data": {
      "image/png": "[encoded data removed]",
      "text/plain": [
       "<Figure size 432x288 with 1 Axes>"
      ]
     },
     "metadata": {
      "needs_background": "light"
     },
     "output_type": "display_data"
    }
   ],
   "source": [
    "N = np.flip([5*2**i for i in range(10)])\n",
    "\n",
    "f = lambda x: -1\n",
    "solutions = []\n",
    "errors = []\n",
    "for i,n in enumerate(N):\n",
    "    j = 9-i\n",
    "    \n",
    "    solution = singular_bvp(.1,1,3,f,n)\n",
    "    solutions.append(solution)\n",
    "    \n",
    "    error = np.max(np.abs(solution - solutions[0][::2**(9-j)]))\n",
    "    errors.append(error)\n",
    "\n",
    "plt.loglog([1/n for n in N], errors, label=\"E(h)\")\n",
    "plt.loglog([1/n for n in N], [1/n**2 for n in N], label=\"$h^2$\")\n",
    "plt.legend()\n",
    "plt.xlabel(\"h\")\n",
    "plt.ylabel(\"Sup-error\")"
   ]
  },
  {
   "cell_type": "markdown",
   "metadata": {},
   "source": [
    "# Problem 4\n",
    "\n",
    "Extend your finite difference code to the case of a general second order linear BVP with boundary conditions:\n",
    "\n",
    "\\begin{align*}\n",
    "\t&{ } a_1(x)y''(x) +a_2(x)y'(x)+ a_3(x) y(x) = f(x), \\quad x \\in (a,b),\\\\\n",
    "\t&{ } y(a) = \\alpha, \\quad y(b) = \\beta.\n",
    "\\end{align*}\n",
    "\n",
    "Use your code to solve the boundary value problem\n",
    "\n",
    "\\begin{align*}\n",
    "\t\\varepsilon y''(x) - 4(\\pi - x^2)y(x) = \\cos x, \\\\\n",
    "\ty(0) = 0, \\quad y(\\pi/2) = 1,\n",
    "\\end{align*}\n",
    "\n",
    "for $\\varepsilon = 0.1$ on a grid with $n=30$ subintervals. Plot your solution."
   ]
  },
  {
   "cell_type": "code",
   "execution_count": null,
   "metadata": {},
   "outputs": [],
   "source": [
    "def bvp(a,b,alpha,beta,a1,a2,a3,f,n):\n",
    "    \"\"\"\n",
    "    Computes the solution to the BVP:\n",
    "        \n",
    "        a1(x)y'' + a2(x)y' + a3(x)y = f\n",
    "        y(a) = α, y(b) = β\n",
    "        \n",
    "    using finite differences.\n",
    "    \n",
    "    Parameters:\n",
    "        a, b (float): the left and right boundary points.\n",
    "        alpha (float): the boundary value of y at x=a.\n",
    "        beta (float): the boundary value of y at x=b.\n",
    "        f (callable): the right-hand function of the BVP.\n",
    "        a1, a2, a3 (callable): the coefficient functions of the BVP.\n",
    "        n (int): the number of subintervals to use in the finite differences method.\n",
    "        \n",
    "    Returns:\n",
    "        ((n+1,) ndarray): the approximated solution to the BVP, including the boundary points.\n",
    "    \"\"\"\n",
    "    pass"
   ]
  },
  {
   "cell_type": "code",
   "execution_count": null,
   "metadata": {},
   "outputs": [],
   "source": []
  },
  {
   "cell_type": "markdown",
   "metadata": {},
   "source": [
    "# Problem 5\n",
    "\n",
    "Numerically solve the boundary value problem\n",
    "\n",
    "\\begin{align*}\n",
    "\t\\varepsilon y''(x) + xy'(x) = -\\varepsilon \\pi^2 \\cos(\\pi x) - \\pi x \\sin(\\pi x), \\\\\n",
    "\ty(-1) = -2, \\quad y(1) = 0,\n",
    "\\end{align*}\n",
    "\n",
    "for $\\varepsilon = 0.1, 0.01,$ and $0.001$. Use a grid with $n=150$ subintervals. Plot your solutions."
   ]
  },
  {
   "cell_type": "code",
   "execution_count": null,
   "metadata": {},
   "outputs": [],
   "source": []
  },
  {
   "cell_type": "markdown",
   "metadata": {},
   "source": [
    "# Problem 6\n",
    "\n",
    "Numerically solve the boundary value problem\n",
    "\n",
    "\\begin{align*}\n",
    "\t(\\varepsilon +x^2)y''(x) + 4xy'(x) + 2y(x) = 0, \\\\\n",
    "\ty(-1) = 1/(1+\\varepsilon), \\quad y(1) = 1/(1+\\varepsilon),\n",
    "\\end{align*}\n",
    "\n",
    "for $\\epsilon = 0.05$ and $0.02$. Use a grid with $n=150$ subintervals. Plot your solutions."
   ]
  },
  {
   "cell_type": "code",
   "execution_count": null,
   "metadata": {},
   "outputs": [],
   "source": []
  }
 ],
 "metadata": {
  "kernelspec": {
   "display_name": "Python 3",
   "language": "python",
   "name": "python3"
  },
  "language_info": {
   "codemirror_mode": {
    "name": "ipython",
    "version": 3
   },
   "file_extension": ".py",
   "mimetype": "text/x-python",
   "name": "python",
   "nbconvert_exporter": "python",
   "pygments_lexer": "ipython3",
   "version": "3.8.8"
  }
 },
 "nbformat": 4,
 "nbformat_minor": 2
}
