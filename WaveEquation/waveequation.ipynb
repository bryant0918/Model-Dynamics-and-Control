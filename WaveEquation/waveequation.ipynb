{
 "cells": [
  {
   "cell_type": "markdown",
   "metadata": {
    "collapsed": true
   },
   "source": [
    "# Wave Equation\n",
    "\n",
    "## Bryant McArthur\n",
    "\n",
    "## Math 437\n",
    "\n",
    "## November 8, 2022"
   ]
  },
  {
   "cell_type": "code",
   "execution_count": 1,
   "metadata": {},
   "outputs": [],
   "source": [
    "import numpy as np\n",
    "import matplotlib.pyplot as plt\n",
    "from matplotlib import animation as ani\n",
    "from scipy.linalg import toeplitz\n",
    "import scipy.optimize"
   ]
  },
  {
   "cell_type": "code",
   "execution_count": 2,
   "metadata": {},
   "outputs": [],
   "source": [
    "%matplotlib notebook"
   ]
  },
  {
   "cell_type": "markdown",
   "metadata": {},
   "source": [
    "# Problem 1\n",
    "Numerically approximate the solution to the following BVP\n",
    "\n",
    "$$\n",
    "u_{tt} = u_{xx} \\\\\n",
    "u(0,t) = u(1,t) = 0, \\\\\n",
    "u(x,0) = \\sin(2\\pi x), \\\\\n",
    "u_t(x,0) = 0. \n",
    "$$\n",
    "\n",
    "Numerically approximate the solution $u(x,t)$ for $t\\in[0,5]$. Use $J=50$ subintervals in the $x$ dimension and $M=50$ subintervals in the $t$ dimension. Animate the results. Compare you results with the analytic solution $u(x,t) = \\sin(2\\pi x)\\cos(2\\pi t).$ This function is know as a standing wave."
   ]
  },
  {
   "cell_type": "code",
   "execution_count": 6,
   "metadata": {},
   "outputs": [],
   "source": [
    "def prob1(t0,T,M,a,b,J,f,fpp=None,g=lambda x:0,s=1):\n",
    "    \n",
    "    # set everything up\n",
    "    t = np.linspace(t0,T,M)\n",
    "    x = np.linspace(a,b,J)\n",
    "    u = np.zeros((J,M))\n",
    "    \n",
    "    dt = t[1] - t[0]\n",
    "    dx = x[1] - x[0]\n",
    "    \n",
    "    \n",
    "    # Initial time step\n",
    "    u[1:-1,0] = f(x[1:-1])\n",
    "    \n",
    "    # First time step\n",
    "    if fpp==None:\n",
    "        fpp = np.array([u[j-1,0]-2*u[j,0]+u[j+1,0] for j in range(1,J-1)])/dx**2\n",
    "        u[1:-1,1] = u[1:-1,0] + g(x[1:-1])*dt + s**2*fpp*(dt**2)/2\n",
    "    else:\n",
    "        u[1:-1,1] = u[1:-1,0] + g(x[1:-1])*dt + s**2*fpp(x[1:-1])*(dt**2)/2\n",
    "    \n",
    "    # Remaining time step\n",
    "    lamb = s*dt/dx\n",
    "    A = np.diag(lamb**2*np.ones(J-1), k=-1) + np.diag(2*(1-lamb**2)*np.ones(J), k=0) + np.diag(lamb**2*np.ones(J-1), k=1)\n",
    "    \n",
    "    for m in range(2,M):\n",
    "        u[:,m] = A@u[:,m-1] - u[:,m-2]\n",
    "        u[0,m] = 0\n",
    "        u[-1,m] = 0\n",
    "        \n",
    "    \n",
    "    return u,x\n",
    "    "
   ]
  },
  {
   "cell_type": "code",
   "execution_count": 4,
   "metadata": {},
   "outputs": [],
   "source": [
    "# Auxillary conditions\n",
    "J=50\n",
    "M=50\n",
    "t = np.linspace(0,5,M)\n",
    "x = np.linspace(0,1,J)\n",
    "u = np.zeros((J,M))\n",
    "\n",
    "f = lambda x: np.sin(2*np.pi*x)\n",
    "fpp = lambda x: -4*np.pi**2*np.sin(2*np.pi*x)"
   ]
  },
  {
   "cell_type": "code",
   "execution_count": 5,
   "metadata": {},
   "outputs": [],
   "source": [
    "# Get solution\n",
    "u,x = prob1(0,5,M,0,1,J,f,fpp)\n",
    "\n",
    "# plot and animate it\n",
    "plt.ioff()\n",
    "fig = plt.figure()\n",
    "ax = fig.add_subplot(111)\n",
    "ax.set_xlim((0,1))\n",
    "ax.set_ylim((-1,1))\n",
    "ax.set_title(\"Numerical approximation\")\n",
    "#ax.set_ylim((-10,10))\n",
    "sol, = plt.plot([],[])\n",
    "\n",
    "def update(i):\n",
    "    sol.set_data(x,u[:,i])\n",
    "    return sol\n",
    "\n",
    "anim = ani.FuncAnimation(fig, update, frames=range(50), interval=20)\n",
    "# plt.show()\n",
    "anim.save('problem1a.mp4')"
   ]
  },
  {
   "cell_type": "markdown",
   "metadata": {},
   "source": [
    " <video src='problem1a.mp4' controls>"
   ]
  },
  {
   "cell_type": "code",
   "execution_count": 6,
   "metadata": {},
   "outputs": [],
   "source": [
    "# Auxillary conditions\n",
    "t = np.linspace(0,5,M)\n",
    "x = np.linspace(0,1,J)\n",
    "u = np.zeros((J,M))\n",
    "\n",
    "# Real solution\n",
    "f = lambda x,t: np.sin(2*np.pi*x)*np.cos(2*np.pi*t)\n",
    "for j in range(J):\n",
    "    for m in range(M):\n",
    "        u[j,m] = f(x[j],t[m])\n",
    "\n",
    "# Plot and animate\n",
    "fig = plt.figure()\n",
    "ax = fig.add_subplot(111)\n",
    "ax.set_xlim((0,1))\n",
    "ax.set_ylim((-1,1))\n",
    "ax.set_title(\"Actual Solution\")\n",
    "#ax.set_ylim((-10,10))\n",
    "sol, = plt.plot([],[])\n",
    "\n",
    "def update(i):\n",
    "    sol.set_data(x,u[:,i])\n",
    "    return sol\n",
    "\n",
    "anim = ani.FuncAnimation(fig, update, frames=range(50), interval=20)\n",
    "# plt.show()\n",
    "anim.save('problem1b.mp4')"
   ]
  },
  {
   "cell_type": "markdown",
   "metadata": {},
   "source": [
    " <video src='problem1b.mp4' controls>"
   ]
  },
  {
   "cell_type": "markdown",
   "metadata": {},
   "source": [
    "# Problem 2\n",
    "\n",
    "Consider the boundary value problem \n",
    "\n",
    "$$\n",
    "u_{tt} = u_{xx}, \\\\\n",
    "u(0,t) = u(1,t) = 0, \\\\\n",
    "u(x,0) = 0.2e^{-,^2(x-1/2)^2} \\\\\n",
    "y_t(x,0) = 0.4m^2(x-\\frac{1}{2})e^{-m^2(x-1/2)^2}.\n",
    "$$\n",
    "\n",
    "The solution of this problem is ta Gaussian pulse. It travels to the right at a constant speed. This solution models, for example, a wave pulse in a stretched string. Note that the fixed boundart conditions reflect the pulse back when it meets the boundary.\n",
    "\n",
    "Numerically approximate the solution $u(x,t)$ for $t\\in[0,1]$. Set $m=20$. Use 200 subintervals in space and 220 in time, and animate your results. Then use 200 subintervals in space and 180 in time, and animate your results. Note that the stability condition is not satisfied for the second mesh."
   ]
  },
  {
   "cell_type": "code",
   "execution_count": 8,
   "metadata": {},
   "outputs": [],
   "source": [
    "#First one\n",
    "m = 20\n",
    "f = lambda x: .2*np.exp(-m**2*(x-.5)**2)\n",
    "g = lambda x: .4*m**2*(x-.5)*np.exp(-m**2*(x-.5)**2)\n",
    "M = 220\n",
    "J = 200\n",
    "\n",
    "# Get solultion\n",
    "u,x = prob1(0,1,M,0,1,J,f,g=g)\n",
    "\n",
    "# Plot and animate it\n",
    "fig = plt.figure()\n",
    "ax = fig.add_subplot(111)\n",
    "ax.set_xlim((0,1))\n",
    "ax.set_ylim((-1,1))\n",
    "ax.set_title(\"Numerical approximation M=220\")\n",
    "#ax.set_ylim((-10,10))\n",
    "sol, = plt.plot([],[])\n",
    "\n",
    "def update(i):\n",
    "    sol.set_data(x,u[:,i])\n",
    "    return sol\n",
    "\n",
    "plt.ioff()\n",
    "anim = ani.FuncAnimation(fig, update, frames=range(220), interval=10)\n",
    "# plt.show()\n",
    "\n",
    "anim.save('problem2a.mp4')"
   ]
  },
  {
   "cell_type": "markdown",
   "metadata": {},
   "source": [
    " <video src='problem2a.mp4' controls>"
   ]
  },
  {
   "cell_type": "code",
   "execution_count": 8,
   "metadata": {},
   "outputs": [],
   "source": [
    "#Second one with M=180\n",
    "M = 180\n",
    "\n",
    "# Get soultion\n",
    "u,x = prob1(0,1,M,0,1,J,f,g=g)\n",
    "\n",
    "# Plot and animate it\n",
    "fig = plt.figure()\n",
    "ax = fig.add_subplot(111)\n",
    "ax.set_xlim((0,1))\n",
    "ax.set_ylim((-1,1))\n",
    "ax.set_title(\"Numerical approximation M=180\")\n",
    "#ax.set_ylim((-10,10))\n",
    "sol, = plt.plot([],[])\n",
    "\n",
    "def update(i):\n",
    "    sol.set_data(x,u[:,i])\n",
    "    return sol\n",
    "\n",
    "plt.ioff()\n",
    "anim = ani.FuncAnimation(fig, update, frames=range(180), interval=10)\n",
    "# plt.show()\n",
    "anim.save('problem2b.mp4')"
   ]
  },
  {
   "cell_type": "markdown",
   "metadata": {},
   "source": [
    " <video src='problem2b.mp4' controls>"
   ]
  },
  {
   "cell_type": "markdown",
   "metadata": {},
   "source": [
    "# Problem 3\n",
    "\n",
    "Consider the initial boundary value problem\n",
    "$$\n",
    "\tu_{tt} = u_{xx}, \\\\\n",
    "\tu(0,t) = u(1,t) = 0, \\\\\n",
    "\tu(x,0) = 0.2e^{-m^2(x-1/2)^2}\\\\\n",
    "\tu_t(x,0) = 0.\n",
    "$$\n",
    "The initial condition separates into two smaller, slower-moving pulses, one travelling to the right and the other to the left.\n",
    "This solution models, for example, a plucked guitar string\n",
    "\n",
    "Numerically approximate the solution $u(x,t)$ for $t \\in \\left[0,2\\right]$.\n",
    "Set $m=20$.\n",
    "Use 200 subintervals in space and 440 in time, and animate your results.\n",
    "It is rather easy to see that the solution to this problem is the sum of two travelling waves, one travelling to the left and the other to the right, as described earlier."
   ]
  },
  {
   "cell_type": "code",
   "execution_count": 9,
   "metadata": {},
   "outputs": [],
   "source": [
    "# Auxillary conditions\n",
    "m = 20\n",
    "f = lambda x: .2*np.exp(-m**2*(x-.5)**2)\n",
    "M = 440\n",
    "J = 200\n",
    "\n",
    "# Get solution\n",
    "u,x = prob1(0,2,M,0,1,J,f)\n",
    "\n",
    "# Plot and animate it\n",
    "fig = plt.figure()\n",
    "ax = fig.add_subplot(111)\n",
    "ax.set_xlim((0,1))\n",
    "ax.set_ylim((-1,1))\n",
    "ax.set_title(\"Numerical approximation M=440\")\n",
    "#ax.set_ylim((-10,10))\n",
    "sol, = plt.plot([],[])\n",
    "\n",
    "def update(i):\n",
    "    sol.set_data(x,u[:,i])\n",
    "    return sol\n",
    "\n",
    "plt.ioff()\n",
    "anim = ani.FuncAnimation(fig, update, frames=range(440), interval=10)\n",
    "# plt.show()\n",
    "anim.save('problem3.mp4')"
   ]
  },
  {
   "cell_type": "markdown",
   "metadata": {},
   "source": [
    " <video src='problem3.mp4' controls>"
   ]
  },
  {
   "cell_type": "markdown",
   "metadata": {},
   "source": [
    "# Problem 4\n",
    "\n",
    "Consider the initial boundary value problem\n",
    "\n",
    "$$\n",
    "\tu_{tt} = u_{xx}, \\\\\n",
    "\tu(0,t) = u(1,t) = 0, \\\\\n",
    "\tu(x,0) = \\begin{cases} 1/3 & \\text{if } 5/11 < x < 6/11,\\\\\n",
    "\t0 & \\text{otherwise}\n",
    "\t\\end{cases}\\\\\n",
    "\tu_t(x,0) = 0.\n",
    "$$\n",
    "\n",
    "Numerically approximate the solution $u(x,t)$ for $t \\in \\left[0, 2\\right]$.\n",
    "Use 200 subintervals in space and 440 in time, and animate your results.\n",
    "Even though the method is second order and stable for this discretization, since the initial condition is discontinuous there are large dispersive errors."
   ]
  },
  {
   "cell_type": "code",
   "execution_count": 10,
   "metadata": {},
   "outputs": [],
   "source": [
    "#First one\n",
    "m = 20\n",
    "t = np.linspace(0,2,440)\n",
    "x = np.linspace(0,1,200)\n",
    "\n",
    "dt = t[1] - t[0]\n",
    "dx = x[1] - x[0]\n",
    "#define f from the pde\n",
    "f = lambda x: np.piecewise(x, [((x > 5/11) & (x < 6/11)), ((x <= 5/11) | (x >= 6/11))], [1/3, 0])\n",
    "lam = 1 * dt / dx\n",
    "# g = lambda x: .4*m**2*(x-.5)*np.exp(-m**2*((x-1)/2)**2)\n",
    "M = 440\n",
    "J = 200\n",
    "\n",
    "u,x = prob1(0,2,M,0,1,J,f)\n",
    "\n",
    "plt.ioff()\n",
    "fig = plt.figure()\n",
    "ax = fig.add_subplot(111)\n",
    "ax.set_xlim((0,1))\n",
    "ax.set_ylim((-1.2,1.2))\n",
    "ax.set_title(\"Numerical approximation M=440\")\n",
    "#ax.set_ylim((-10,10))\n",
    "sol, = plt.plot([],[])\n",
    "\n",
    "def update(i):\n",
    "    sol.set_data(x,u[:,i])\n",
    "    return sol\n",
    "\n",
    "anim = ani.FuncAnimation(fig, update, frames=range(440), interval=10)\n",
    "# plt.show()\n",
    "anim.save('problem4.mp4')"
   ]
  },
  {
   "cell_type": "markdown",
   "metadata": {},
   "source": [
    " <video src='problem4.mp4' controls>"
   ]
  },
  {
   "cell_type": "markdown",
   "metadata": {},
   "source": [
    "# Problem 5\n",
    "\n",
    "\n",
    "Numerically solve the initial value problem\n",
    "\n",
    "$$\n",
    "\tu_t -su_x + uu_x = u_{xx}, \\quad x \\in (-\\infty,\\infty),\\\\\n",
    "\tu(x,0) = v(x),\n",
    "$$\n",
    "\n",
    "for $t \\in [0,1]$.\n",
    "Let the perturbation $v(x)$ be given by\n",
    "\n",
    "$$\n",
    "v(x) = 3.5(\\sin{(3x)} + 1)\\frac{1}{\\sqrt{2\\pi}} \\exp{(-x^2/2)}\n",
    "$$\n",
    "\n",
    "And let the initial condition be $u(x, 0) = \\hat{u}(x) + v(x)$\n",
    "Approximate the $x$ domain,$(-\\infty, \\infty)$, numerically by the finite interval $[-20,20]$, and fix $u(-20) = u_-$, $u(20) = u_+$. Let $u_- = 5$, $u_+ = 1$.\n",
    "Use 150 intervals in space and 350 steps in time.\n",
    "Animate your results.\n",
    "You should see the solution converge to a translate of the travelling wave $\\hat{u}$.\n",
    "\n",
    "Hint: This difference scheme is no longer a linear equation.\n",
    "We have a nonlinear equation in $U^{n+1}$.\n",
    "We can still solve this function using Newton's method or some other similar solver.\n",
    "In this case, use `scipy.optimize.fsolve`."
   ]
  },
  {
   "cell_type": "code",
   "execution_count": 5,
   "metadata": {},
   "outputs": [],
   "source": [
    "def prob5(M,J):\n",
    "    \n",
    "    # Auxillary conditions\n",
    "    dx = 40 / J\n",
    "    dt = 1 / M\n",
    "    x = np.linspace(-20, 20, J+1)\n",
    "    k1 = dt / (4 * dx)\n",
    "    k2 = dt /(2 * dx**2)\n",
    "    um = 5\n",
    "    up = 1\n",
    "    s = (um + up) / 2\n",
    "    a = (um - up) / 2\n",
    "\n",
    "    # Make u\n",
    "    u = np.zeros((M+1, J+1))\n",
    "    u[0,0] = um\n",
    "    u[0,-1] = up\n",
    "\n",
    "    # define v and uhat\n",
    "    v = lambda x: 7/2 * (np.sin(3*x) + 1) * (1/np.sqrt(2*np.pi)) * np.exp(-.5*x**2)\n",
    "    uhat = lambda x: s - a*np.tanh(a*x/2)\n",
    "\n",
    "    # First row\n",
    "    u[0][1:J+1] = [uhat(xj) + v(xj) for xj in x[1:J+1]]\n",
    "\n",
    "    # get f0\n",
    "    f0 = u[0]\n",
    "\n",
    "    # Use crank-Nicolson method\n",
    "    def crank(u1,u0,k1,k2,s):\n",
    "        ncols = u1.shape[-1]\n",
    "        root_eq = [u1[i] - u0[i] - k1*((s-u1[i])*(u1[i+1]-u1[i-1]) + (s-u0[i])*(u0[i+1]-u0[i-1])) - k2*((u1[i+1]-2*u1[i] + u1[i-1]) + (u0[i+1]-2*u0[i]+u0[i-1])) for i in range(1, ncols-1)]\n",
    "        root_eq = [u1[0] - u0[0]] + root_eq + [u1[-1] - u0[-1]]\n",
    "        return root_eq\n",
    "\n",
    "    # find roots of crank nicolson equations\n",
    "    for i in range(1, M+1):\n",
    "        u[i] = scipy.optimize.fsolve(crank, f0, args=(u[i-1], k1, k2, s))\n",
    "        \n",
    "    return u,x\n",
    "\n"
   ]
  },
  {
   "cell_type": "code",
   "execution_count": 7,
   "metadata": {},
   "outputs": [],
   "source": [
    "# Get solution\n",
    "M = 350\n",
    "J = 150\n",
    "u,x = prob5(M,J)\n",
    "\n",
    "# Plot and animate\n",
    "fig = plt.figure()\n",
    "ax = fig.add_subplot(111)\n",
    "ax.set_xlim((-20,20))\n",
    "ax.set_ylim((0,6))\n",
    "ax.set_title(\"Crank-Nicolson Approximation\")\n",
    "sol, = plt.plot([],[])\n",
    "def update(i):\n",
    "    sol.set_data(x,u[i])\n",
    "    return sol\n",
    "    \n",
    "plt.ioff()\n",
    "anim = ani.FuncAnimation(fig, update, frames=range(M), interval=10)\n",
    "anim.save(\"problem5.mp4\")"
   ]
  },
  {
   "cell_type": "markdown",
   "metadata": {},
   "source": [
    "<video src='problem5.mp4' controls>"
   ]
  }
 ],
 "metadata": {
  "kernelspec": {
   "display_name": "Python 3",
   "language": "python",
   "name": "python3"
  },
  "language_info": {
   "codemirror_mode": {
    "name": "ipython",
    "version": 3
   },
   "file_extension": ".py",
   "mimetype": "text/x-python",
   "name": "python",
   "nbconvert_exporter": "python",
   "pygments_lexer": "ipython3",
   "version": "3.8.8"
  }
 },
 "nbformat": 4,
 "nbformat_minor": 1
}
